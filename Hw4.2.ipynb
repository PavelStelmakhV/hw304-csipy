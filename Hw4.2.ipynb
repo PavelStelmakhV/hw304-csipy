{
  "nbformat": 4,
  "nbformat_minor": 0,
  "metadata": {
    "colab": {
      "provenance": [],
      "authorship_tag": "ABX9TyN0A+haBLypnauwMYgs1Dmw",
      "include_colab_link": true
    },
    "kernelspec": {
      "name": "python3",
      "display_name": "Python 3"
    },
    "language_info": {
      "name": "python"
    }
  },
  "cells": [
    {
      "cell_type": "markdown",
      "metadata": {
        "id": "view-in-github",
        "colab_type": "text"
      },
      "source": [
        "<a href=\"https://colab.research.google.com/github/PavelStelmakhV/hw304-csipy/blob/main/Hw4.2.ipynb\" target=\"_parent\"><img src=\"https://colab.research.google.com/assets/colab-badge.svg\" alt=\"Open In Colab\"/></a>"
      ]
    },
    {
      "cell_type": "code",
      "execution_count": 13,
      "metadata": {
        "id": "Xo7BVCay1dAX"
      },
      "outputs": [],
      "source": [
        "import numpy as np\n",
        "import matplotlib.pyplot as plt\n",
        "from scipy.interpolate import interp1d\n",
        "from scipy.integrate import solve_ivp\n",
        "from scipy import integrate"
      ]
    },
    {
      "cell_type": "code",
      "source": [
        "alpha = 0.5\n",
        "beta = 0.3\n",
        "N = 1_000_000\n",
        "S0 = 990_000\n",
        "I0 = 7000\n",
        "R0 = 3000\n",
        "t0, tf = 0, 25\n",
        "t = np.linspace(t0, tf, 26)"
      ],
      "metadata": {
        "id": "MKlmiCMX5H4v"
      },
      "execution_count": 16,
      "outputs": []
    },
    {
      "cell_type": "markdown",
      "source": [
        "## Susceptible"
      ],
      "metadata": {
        "id": "rAPnGyJ2z1rj"
      }
    },
    {
      "cell_type": "code",
      "source": [
        "def dSdt(t, S):\n",
        "    return -alpha * S"
      ],
      "metadata": {
        "id": "mKDiv0QRwdG6"
      },
      "execution_count": 14,
      "outputs": []
    },
    {
      "cell_type": "code",
      "source": [
        "susceptible = solve_ivp(dSdt, (t0, tf), [S0], dense_output=True)"
      ],
      "metadata": {
        "id": "0dmMcNCV51Lf"
      },
      "execution_count": 26,
      "outputs": []
    },
    {
      "cell_type": "code",
      "source": [
        "time_range = np.linspace(t0, tf, 26)\n",
        "plt.plot(susceptible.t, susceptible.y[0], 'o', color='orange', label='susceptible')\n",
        "plt.plot(susceptible.t, susceptible.sol(susceptible.t)[0], color='orange')\n",
        "plt.legend()\n",
        "plt.xlim(t0, tf)\n",
        "# plt.ylim(0, 130)\n",
        "plt.grid()"
      ],
      "metadata": {
        "id": "Quw6MYmnBEH_",
        "colab": {
          "base_uri": "https://localhost:8080/",
          "height": 445
        },
        "outputId": "85fd11c1-451e-451c-ca92-dd95c032b641"
      },
      "execution_count": 34,
      "outputs": [
        {
          "output_type": "display_data",
          "data": {
            "text/plain": [
              "<Figure size 640x480 with 1 Axes>"
            ],
            "image/png": "[encoded data removed]"
          },
          "metadata": {}
        }
      ]
    },
    {
      "cell_type": "code",
      "source": [
        "def dIdt(t, I):\n",
        "    return alpha * S - beta * I"
      ],
      "metadata": {
        "id": "M8mxae2_z8JU"
      },
      "execution_count": 41,
      "outputs": []
    },
    {
      "cell_type": "code",
      "source": [
        "infected = solve_ivp(dSdt, (t0, tf), [I0])"
      ],
      "metadata": {
        "id": "QGO_ookC6ghy"
      },
      "execution_count": 40,
      "outputs": []
    }
  ]
}
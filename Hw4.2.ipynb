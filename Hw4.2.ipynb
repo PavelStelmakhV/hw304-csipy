{
  "nbformat": 4,
  "nbformat_minor": 0,
  "metadata": {
    "colab": {
      "provenance": [],
      "authorship_tag": "ABX9TyNa6dEt7adjjmJ31iBvmAUS",
      "include_colab_link": true
    },
    "kernelspec": {
      "name": "python3",
      "display_name": "Python 3"
    },
    "language_info": {
      "name": "python"
    }
  },
  "cells": [
    {
      "cell_type": "markdown",
      "metadata": {
        "id": "view-in-github",
        "colab_type": "text"
      },
      "source": [
        "<a href=\"https://colab.research.google.com/github/PavelStelmakhV/hw304-csipy/blob/main/Hw4.2.ipynb\" target=\"_parent\"><img src=\"https://colab.research.google.com/assets/colab-badge.svg\" alt=\"Open In Colab\"/></a>"
      ]
    },
    {
      "cell_type": "code",
      "execution_count": 4,
      "metadata": {
        "id": "Xo7BVCay1dAX"
      },
      "outputs": [],
      "source": [
        "import numpy as np\n",
        "import matplotlib.pyplot as plt\n",
        "from scipy.interpolate import interp1d\n",
        "from scipy import integrate"
      ]
    },
    {
      "cell_type": "code",
      "source": [
        "alpha = 0.5\n",
        "beta = 0.3\n",
        "N = 1_000_000\n",
        "S_0 = 990_000\n",
        "I_0 = 7000\n",
        "R_0 = 3000\n",
        "t0, tf = 0, 25"
      ],
      "metadata": {
        "id": "MKlmiCMX5H4v"
      },
      "execution_count": 5,
      "outputs": []
    },
    {
      "cell_type": "code",
      "source": [
        "f_S = integrate.quad(lambda x: -alpha * x, t0, tf)\n"
      ],
      "metadata": {
        "id": "0dmMcNCV51Lf",
        "outputId": "da410b73-d5ae-45aa-c3aa-016531967bd8",
        "colab": {
          "base_uri": "https://localhost:8080/"
        }
      },
      "execution_count": 6,
      "outputs": [
        {
          "output_type": "execute_result",
          "data": {
            "text/plain": [
              "1000000"
            ]
          },
          "metadata": {},
          "execution_count": 6
        }
      ]
    },
    {
      "cell_type": "code",
      "source": [
        "plt.plot(time, speed, 'o')\n",
        "more_date = np.linspace(0, 11, 10000)\n",
        "plt.plot(more_date, f_cubic(more_date))\n",
        "plt.xlim(0, 11)\n",
        "plt.ylim(0, 130)\n",
        "plt.grid()"
      ],
      "metadata": {
        "id": "Quw6MYmnBEH_"
      },
      "execution_count": null,
      "outputs": []
    }
  ]
}